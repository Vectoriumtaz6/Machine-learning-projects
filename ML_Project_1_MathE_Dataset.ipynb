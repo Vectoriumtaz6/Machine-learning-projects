{
 "cells": [
  {
   "cell_type": "code",
   "execution_count": 1,
   "id": "b9166c1c-2469-4d6e-adde-c1052f02d4d0",
   "metadata": {},
   "outputs": [],
   "source": [
    "#Dependencies \n",
    "import os\n",
    "import pandas as pd\n",
    "import numpy as np\n",
    "from pandas.plotting import scatter_matrix"
   ]
  },
  {
   "cell_type": "markdown",
   "id": "5fb4cbcb-a11d-45f4-83b8-a445b673b587",
   "metadata": {},
   "source": [
    "**Import data**"
   ]
  },
  {
   "cell_type": "code",
   "execution_count": 3,
   "id": "06187f71-9ee2-40ec-9528-f72f5fd48bfa",
   "metadata": {},
   "outputs": [],
   "source": [
    "#Import data in csv file as DataFrame\n",
    "MathE_data = pd.read_csv('transformed_MathE_data.csv')\n",
    "MathE_data_np = MathE_data.select_dtypes(include=[np.number])\n",
    "# print(MathE_data_np[MathE_data_np > np.finfo(np.float64).max])\n",
    "# print(MathE_data_np[np.isinf(MathE_data_np)].dropna(how='all'))"
   ]
  },
  {
   "cell_type": "code",
   "execution_count": 162,
   "id": "4a01013e-55f5-4211-9627-2d1e2f359891",
   "metadata": {},
   "outputs": [],
   "source": [
    "#Split entire dataset with 80/20 train-to-test set ratio\n",
    "from sklearn.model_selection import train_test_split\n",
    "strat_train_set, strat_test_set = train_test_split(MathE_data, stratify=MathE_data[\"Question Level\"], test_size = 0.2, random_state=42)\n",
    "MathE = strat_test_set.copy()"
   ]
  },
  {
   "cell_type": "markdown",
   "id": "794233a4-a52c-4de9-92e6-4aaa66c58e22",
   "metadata": {},
   "source": [
    "**Split data into 10 train/test sets with 20% of the data allocated to testing and Stratify dataset based on question level attributes**"
   ]
  },
  {
   "cell_type": "code",
   "execution_count": null,
   "id": "c24d3d67-2b15-40c7-bc9f-c2266367a0c0",
   "metadata": {},
   "outputs": [],
   "source": [
    "# #from sklearn.model_selection import StratifiedShuffleSplit\n",
    "# from sklearn.model_selection import StratifiedShuffleSplit"
   ]
  },
  {
   "cell_type": "code",
   "execution_count": null,
   "id": "7634cd33-3c55-4e33-93b8-0bce587f2238",
   "metadata": {},
   "outputs": [],
   "source": [
    "#stratifying data by question level (Basic/Advanced)\n",
    "# splitter = StratifiedShuffleSplit(n_splits= 10, train_size=0.8, random_state=42)\n",
    "# stratified_splits = []\n",
    "# for train_index, test_index in splitter.split(MathE_data,MathE_data[\"Question Level\"]):\n",
    "#     train_set = MathE_data.iloc[train_index]\n",
    "#     test_set = MathE_data.iloc[test_index]\n",
    "#     stratified_splits.append([train_set,test_set])\n",
    "# print(f\"Startified dataset{stratified_splits[0][0]['Question Level'].value_counts()/len(stratified_splits[0][0]['Question Level'])}/t\",f\"Full dataset:{MathE_data['Question Level'].value_counts()/len(MathE_data['Question Level'])}\")"
   ]
  },
  {
   "cell_type": "code",
   "execution_count": null,
   "id": "5585b830-cb3c-46c4-b2c3-c5eb21bb926d",
   "metadata": {},
   "outputs": [],
   "source": [
    "#Separate training set into model's inputs and labels\n",
    "# MathE_data_input = stratified_splits[0][0].drop([\"Student ID\"],axis=1)\n",
    "# MathE_data_labels = stratified_splits[0][1][\"Type of Answer\"]\n",
    "# MathE_data_input,MathE_data_labels"
   ]
  },
  {
   "cell_type": "code",
   "execution_count": 136,
   "id": "a914b1fb-a63f-4e39-9e43-a82f2b135455",
   "metadata": {},
   "outputs": [],
   "source": [
    "#features segregation\n",
    "get_rid_of_features = [\"Type of Answer\",\"Question Level\",\"Topic\",\"Subtopic\",\"Student Country\"]"
   ]
  },
  {
   "cell_type": "code",
   "execution_count": 138,
   "id": "cae069f7-5933-49d7-aee3-0057e0a1c02f",
   "metadata": {},
   "outputs": [],
   "source": [
    "#Split entire dataset with 80/20 train-to-test set ratio\n",
    "from sklearn.model_selection import train_test_split\n",
    "strat_train_set, strat_test_set = train_test_split(MathE_data, stratify=MathE_data[\"Question Level\"], test_size = 0.2, random_state=42)\n",
    "MathE_train_set_labels = strat_train_set[\"Type of Answer\"]\n",
    "MathE_train_set_input = strat_train_set.copy().drop(get_rid_of_features, axis=1)"
   ]
  },
  {
   "cell_type": "markdown",
   "id": "3ccba063-5ec1-4c98-8988-ca9316dcd0a6",
   "metadata": {},
   "source": [
    "**Visualize data to gain further insight**"
   ]
  },
  {
   "cell_type": "markdown",
   "id": "de271469-3dea-4af8-8e23-4211150c9b1e",
   "metadata": {},
   "source": [
    "**Encoding text Attributes**"
   ]
  },
  {
   "cell_type": "code",
   "execution_count": null,
   "id": "ca46f460-16ab-4799-95d1-29fb0bb43a12",
   "metadata": {},
   "outputs": [],
   "source": [
    "#Encoding the \"Type of Answer\" Attributes as sparse matrices\n",
    "# from sklearn.preprocessing import OneHotEncoder\n",
    "# one_hot_encoder = OneHotEncoder()\n",
    "# Encoded_Data = one_hot_encoder.fit_transform(MathE.select_dtypes(include=object))\n",
    "# Encoded_Data.toarray()\n",
    "# one_hot_encoder.get_feature_names_out()"
   ]
  },
  {
   "cell_type": "code",
   "execution_count": null,
   "id": "bb5adbf9-cefa-4ce5-a751-7fb0491d948d",
   "metadata": {},
   "outputs": [],
   "source": [
    "#plot Question ID on a histogram\n",
    "# import matplotlib.pyplot as plt\n",
    "# plt.figure(figsize=(12,8))\n",
    "# MathE_data_input_num[\"Question ID\"].hist()\n",
    "# plt.title('Question ID frequency')\n",
    "# plt.xlabel('Question ID')\n",
    "# plt.ylabel('Count')\n",
    "#Note that Question ID is heavy-tailed thus prior to scaling this attribute through normalization, the log of this attribute should be calculated"
   ]
  },
  {
   "cell_type": "markdown",
   "id": "a26beb75-0ee7-4f51-9763-16c3dbc06b64",
   "metadata": {},
   "source": [
    "**Using custom transformer to apply a logarithmic transformation of the data**"
   ]
  },
  {
   "cell_type": "code",
   "execution_count": null,
   "id": "bf6dabd7-0712-4e7c-934e-044c57296988",
   "metadata": {},
   "outputs": [],
   "source": [
    "# #log transformation of Question ID\n",
    "# from sklearn.preprocessing import FunctionTransformer\n",
    "# log_transformer = FunctionTransformer(np.log) \n",
    "# log_Question_ID = log_transformer.transform(MathE_data[[\"Question ID\"]])\n",
    "# log_Question_ID"
   ]
  },
  {
   "cell_type": "code",
   "execution_count": null,
   "id": "c2a6c40e-daf2-48ae-be6a-fe78b84651eb",
   "metadata": {},
   "outputs": [],
   "source": [
    "# #plot log of Question ID \n",
    "# plt.figure(figsize=(12,8))\n",
    "# log_Question_ID.hist()\n",
    "# plt.title('log Question ID frequency')\n",
    "# plt.xlabel('log Question ID')\n",
    "# plt.ylabel('Count')"
   ]
  },
  {
   "cell_type": "markdown",
   "id": "a06a3df3-83e8-46e5-993d-178408192880",
   "metadata": {},
   "source": [
    "**Scaling data by normalizing it**"
   ]
  },
  {
   "cell_type": "code",
   "execution_count": null,
   "id": "ac0ba732-a2f8-4485-94ec-e186bce4b081",
   "metadata": {},
   "outputs": [],
   "source": [
    "#Min-Max scaling and Normalization \n",
    "# from sklearn.preprocessing import MinMaxScaler\n",
    "# Scaler = MinMaxScaler(feature_range=(-1,1))\n",
    "# Normalized_Question_ID = pd.DataFrame(Scaler.fit_transform(MathE_data[[\"Question ID\"]]),columns =['Normalized log Question ID'])\n",
    "# Normalized_Question_ID"
   ]
  },
  {
   "cell_type": "code",
   "execution_count": null,
   "id": "7596d289-3557-4bc7-8b63-e54bd8c2d9dc",
   "metadata": {},
   "outputs": [],
   "source": [
    "#plot log of Normalized Question ID \n",
    "# plt.figure(figsize=(12,8))\n",
    "# Normalized_Question_ID.hist()\n",
    "# plt.title('Normalized log Question ID frequency')\n",
    "# plt.xlabel('Normalized log Question ID')\n",
    "# plt.ylabel('Count')"
   ]
  },
  {
   "cell_type": "markdown",
   "id": "d5801f15-e5cf-4b19-99c2-68cf7a1c0b8e",
   "metadata": {},
   "source": [
    "**The purpose of this section is to build a preprocessing data pipeline that perform the following tasks:**\n",
    "- Transform numerical attributes by calculating the log of the attributes and scaling them\n",
    "- Transform categorical attributes by OneHote encoding the attribute\n",
    "- Note that we will ignore missing values\n",
    "- estimator to use:\n",
    "- make_pipeline()"
   ]
  },
  {
   "cell_type": "code",
   "execution_count": 100,
   "id": "fe0e1a12-d225-44e2-b565-6114ad1e2d1b",
   "metadata": {},
   "outputs": [],
   "source": [
    "from sklearn.compose import make_column_selector, make_column_transformer\n",
    "from sklearn.pipeline import make_pipeline\n",
    "from sklearn.preprocessing import FunctionTransformer, MinMaxScaler, OneHotEncoder\n",
    "\n",
    "#\n",
    "#Create a custom transformer that calculate the  log of a numerical \n",
    "log_transformer = FunctionTransformer(np.log)\n",
    "\n",
    "#Create a pipeline that transform numerical attributes\n",
    "numeric_pipeline = make_pipeline(MinMaxScaler(feature_range=(-1,1)))\n",
    "\n",
    "#Create a pipeline that encode categorical attributes into sparse matrices\n",
    "category_pipeline = make_pipeline(OneHotEncoder())\n",
    "\n",
    "#Wrap both pipeline into a column transformer that automatically apply respective pipelines to both categorical and numeric attributes\n",
    "preprocessing = make_column_transformer((numeric_pipeline, make_column_selector(dtype_include= np.number)),(category_pipeline, make_column_selector(dtype_include=object)))"
   ]
  },
  {
   "cell_type": "code",
   "execution_count": null,
   "id": "7f83192a-c214-4419-97c1-79ff7a5ab883",
   "metadata": {},
   "outputs": [],
   "source": [
    "#Fit and transform \"MathE\" dataset\n",
    "#Transformed_MathE = preprocessing.fit_transform(MathE_train_set_input).toarray()"
   ]
  },
  {
   "cell_type": "code",
   "execution_count": null,
   "id": "8e74a805-34bb-4f7c-83f2-3256cb1d9943",
   "metadata": {},
   "outputs": [],
   "source": [
    "#processed_mathe = pd.DataFrame(Transformed_MathE, columns =preprocessing.get_feature_names_out(), index=MathE_train_set_input.index) "
   ]
  },
  {
   "cell_type": "code",
   "execution_count": null,
   "id": "c9d37e8e-97c1-499c-827c-247343d19b03",
   "metadata": {},
   "outputs": [],
   "source": [
    "#processed_mathe"
   ]
  },
  {
   "cell_type": "code",
   "execution_count": 102,
   "id": "00c8ebbd-d8ca-407a-80de-e419f4fcfe88",
   "metadata": {},
   "outputs": [
    {
     "data": {
      "text/html": [
       "<style>#sk-container-id-5 {color: black;background-color: white;}#sk-container-id-5 pre{padding: 0;}#sk-container-id-5 div.sk-toggleable {background-color: white;}#sk-container-id-5 label.sk-toggleable__label {cursor: pointer;display: block;width: 100%;margin-bottom: 0;padding: 0.3em;box-sizing: border-box;text-align: center;}#sk-container-id-5 label.sk-toggleable__label-arrow:before {content: \"▸\";float: left;margin-right: 0.25em;color: #696969;}#sk-container-id-5 label.sk-toggleable__label-arrow:hover:before {color: black;}#sk-container-id-5 div.sk-estimator:hover label.sk-toggleable__label-arrow:before {color: black;}#sk-container-id-5 div.sk-toggleable__content {max-height: 0;max-width: 0;overflow: hidden;text-align: left;background-color: #f0f8ff;}#sk-container-id-5 div.sk-toggleable__content pre {margin: 0.2em;color: black;border-radius: 0.25em;background-color: #f0f8ff;}#sk-container-id-5 input.sk-toggleable__control:checked~div.sk-toggleable__content {max-height: 200px;max-width: 100%;overflow: auto;}#sk-container-id-5 input.sk-toggleable__control:checked~label.sk-toggleable__label-arrow:before {content: \"▾\";}#sk-container-id-5 div.sk-estimator input.sk-toggleable__control:checked~label.sk-toggleable__label {background-color: #d4ebff;}#sk-container-id-5 div.sk-label input.sk-toggleable__control:checked~label.sk-toggleable__label {background-color: #d4ebff;}#sk-container-id-5 input.sk-hidden--visually {border: 0;clip: rect(1px 1px 1px 1px);clip: rect(1px, 1px, 1px, 1px);height: 1px;margin: -1px;overflow: hidden;padding: 0;position: absolute;width: 1px;}#sk-container-id-5 div.sk-estimator {font-family: monospace;background-color: #f0f8ff;border: 1px dotted black;border-radius: 0.25em;box-sizing: border-box;margin-bottom: 0.5em;}#sk-container-id-5 div.sk-estimator:hover {background-color: #d4ebff;}#sk-container-id-5 div.sk-parallel-item::after {content: \"\";width: 100%;border-bottom: 1px solid gray;flex-grow: 1;}#sk-container-id-5 div.sk-label:hover label.sk-toggleable__label {background-color: #d4ebff;}#sk-container-id-5 div.sk-serial::before {content: \"\";position: absolute;border-left: 1px solid gray;box-sizing: border-box;top: 0;bottom: 0;left: 50%;z-index: 0;}#sk-container-id-5 div.sk-serial {display: flex;flex-direction: column;align-items: center;background-color: white;padding-right: 0.2em;padding-left: 0.2em;position: relative;}#sk-container-id-5 div.sk-item {position: relative;z-index: 1;}#sk-container-id-5 div.sk-parallel {display: flex;align-items: stretch;justify-content: center;background-color: white;position: relative;}#sk-container-id-5 div.sk-item::before, #sk-container-id-5 div.sk-parallel-item::before {content: \"\";position: absolute;border-left: 1px solid gray;box-sizing: border-box;top: 0;bottom: 0;left: 50%;z-index: -1;}#sk-container-id-5 div.sk-parallel-item {display: flex;flex-direction: column;z-index: 1;position: relative;background-color: white;}#sk-container-id-5 div.sk-parallel-item:first-child::after {align-self: flex-end;width: 50%;}#sk-container-id-5 div.sk-parallel-item:last-child::after {align-self: flex-start;width: 50%;}#sk-container-id-5 div.sk-parallel-item:only-child::after {width: 0;}#sk-container-id-5 div.sk-dashed-wrapped {border: 1px dashed gray;margin: 0 0.4em 0.5em 0.4em;box-sizing: border-box;padding-bottom: 0.4em;background-color: white;}#sk-container-id-5 div.sk-label label {font-family: monospace;font-weight: bold;display: inline-block;line-height: 1.2em;}#sk-container-id-5 div.sk-label-container {text-align: center;}#sk-container-id-5 div.sk-container {/* jupyter's `normalize.less` sets `[hidden] { display: none; }` but bootstrap.min.css set `[hidden] { display: none !important; }` so we also need the `!important` here to be able to override the default hidden behavior on the sphinx rendered scikit-learn.org. See: https://github.com/scikit-learn/scikit-learn/issues/21755 */display: inline-block !important;position: relative;}#sk-container-id-5 div.sk-text-repr-fallback {display: none;}</style><div id=\"sk-container-id-5\" class=\"sk-top-container\"><div class=\"sk-text-repr-fallback\"><pre>Pipeline(steps=[(&#x27;columntransformer&#x27;,\n",
       "                 ColumnTransformer(transformers=[(&#x27;pipeline-1&#x27;,\n",
       "                                                  Pipeline(steps=[(&#x27;minmaxscaler&#x27;,\n",
       "                                                                   MinMaxScaler(feature_range=(-1,\n",
       "                                                                                               1)))]),\n",
       "                                                  &lt;sklearn.compose._column_transformer.make_column_selector object at 0x000002108AC65E90&gt;),\n",
       "                                                 (&#x27;pipeline-2&#x27;,\n",
       "                                                  Pipeline(steps=[(&#x27;onehotencoder&#x27;,\n",
       "                                                                   OneHotEncoder())]),\n",
       "                                                  &lt;sklearn.compose._column_transformer.make_column_selector object at 0x000002108AC65B10&gt;)])),\n",
       "                (&#x27;linearregression&#x27;, LinearRegression())])</pre><b>In a Jupyter environment, please rerun this cell to show the HTML representation or trust the notebook. <br />On GitHub, the HTML representation is unable to render, please try loading this page with nbviewer.org.</b></div><div class=\"sk-container\" hidden><div class=\"sk-item sk-dashed-wrapped\"><div class=\"sk-label-container\"><div class=\"sk-label sk-toggleable\"><input class=\"sk-toggleable__control sk-hidden--visually\" id=\"sk-estimator-id-30\" type=\"checkbox\" ><label for=\"sk-estimator-id-30\" class=\"sk-toggleable__label sk-toggleable__label-arrow\">Pipeline</label><div class=\"sk-toggleable__content\"><pre>Pipeline(steps=[(&#x27;columntransformer&#x27;,\n",
       "                 ColumnTransformer(transformers=[(&#x27;pipeline-1&#x27;,\n",
       "                                                  Pipeline(steps=[(&#x27;minmaxscaler&#x27;,\n",
       "                                                                   MinMaxScaler(feature_range=(-1,\n",
       "                                                                                               1)))]),\n",
       "                                                  &lt;sklearn.compose._column_transformer.make_column_selector object at 0x000002108AC65E90&gt;),\n",
       "                                                 (&#x27;pipeline-2&#x27;,\n",
       "                                                  Pipeline(steps=[(&#x27;onehotencoder&#x27;,\n",
       "                                                                   OneHotEncoder())]),\n",
       "                                                  &lt;sklearn.compose._column_transformer.make_column_selector object at 0x000002108AC65B10&gt;)])),\n",
       "                (&#x27;linearregression&#x27;, LinearRegression())])</pre></div></div></div><div class=\"sk-serial\"><div class=\"sk-item sk-dashed-wrapped\"><div class=\"sk-label-container\"><div class=\"sk-label sk-toggleable\"><input class=\"sk-toggleable__control sk-hidden--visually\" id=\"sk-estimator-id-31\" type=\"checkbox\" ><label for=\"sk-estimator-id-31\" class=\"sk-toggleable__label sk-toggleable__label-arrow\">columntransformer: ColumnTransformer</label><div class=\"sk-toggleable__content\"><pre>ColumnTransformer(transformers=[(&#x27;pipeline-1&#x27;,\n",
       "                                 Pipeline(steps=[(&#x27;minmaxscaler&#x27;,\n",
       "                                                  MinMaxScaler(feature_range=(-1,\n",
       "                                                                              1)))]),\n",
       "                                 &lt;sklearn.compose._column_transformer.make_column_selector object at 0x000002108AC65E90&gt;),\n",
       "                                (&#x27;pipeline-2&#x27;,\n",
       "                                 Pipeline(steps=[(&#x27;onehotencoder&#x27;,\n",
       "                                                  OneHotEncoder())]),\n",
       "                                 &lt;sklearn.compose._column_transformer.make_column_selector object at 0x000002108AC65B10&gt;)])</pre></div></div></div><div class=\"sk-parallel\"><div class=\"sk-parallel-item\"><div class=\"sk-item\"><div class=\"sk-label-container\"><div class=\"sk-label sk-toggleable\"><input class=\"sk-toggleable__control sk-hidden--visually\" id=\"sk-estimator-id-32\" type=\"checkbox\" ><label for=\"sk-estimator-id-32\" class=\"sk-toggleable__label sk-toggleable__label-arrow\">pipeline-1</label><div class=\"sk-toggleable__content\"><pre>&lt;sklearn.compose._column_transformer.make_column_selector object at 0x000002108AC65E90&gt;</pre></div></div></div><div class=\"sk-serial\"><div class=\"sk-item\"><div class=\"sk-serial\"><div class=\"sk-item\"><div class=\"sk-estimator sk-toggleable\"><input class=\"sk-toggleable__control sk-hidden--visually\" id=\"sk-estimator-id-33\" type=\"checkbox\" ><label for=\"sk-estimator-id-33\" class=\"sk-toggleable__label sk-toggleable__label-arrow\">MinMaxScaler</label><div class=\"sk-toggleable__content\"><pre>MinMaxScaler(feature_range=(-1, 1))</pre></div></div></div></div></div></div></div></div><div class=\"sk-parallel-item\"><div class=\"sk-item\"><div class=\"sk-label-container\"><div class=\"sk-label sk-toggleable\"><input class=\"sk-toggleable__control sk-hidden--visually\" id=\"sk-estimator-id-34\" type=\"checkbox\" ><label for=\"sk-estimator-id-34\" class=\"sk-toggleable__label sk-toggleable__label-arrow\">pipeline-2</label><div class=\"sk-toggleable__content\"><pre>&lt;sklearn.compose._column_transformer.make_column_selector object at 0x000002108AC65B10&gt;</pre></div></div></div><div class=\"sk-serial\"><div class=\"sk-item\"><div class=\"sk-serial\"><div class=\"sk-item\"><div class=\"sk-estimator sk-toggleable\"><input class=\"sk-toggleable__control sk-hidden--visually\" id=\"sk-estimator-id-35\" type=\"checkbox\" ><label for=\"sk-estimator-id-35\" class=\"sk-toggleable__label sk-toggleable__label-arrow\">OneHotEncoder</label><div class=\"sk-toggleable__content\"><pre>OneHotEncoder()</pre></div></div></div></div></div></div></div></div></div></div><div class=\"sk-item\"><div class=\"sk-estimator sk-toggleable\"><input class=\"sk-toggleable__control sk-hidden--visually\" id=\"sk-estimator-id-36\" type=\"checkbox\" ><label for=\"sk-estimator-id-36\" class=\"sk-toggleable__label sk-toggleable__label-arrow\">LinearRegression</label><div class=\"sk-toggleable__content\"><pre>LinearRegression()</pre></div></div></div></div></div></div></div>"
      ],
      "text/plain": [
       "Pipeline(steps=[('columntransformer',\n",
       "                 ColumnTransformer(transformers=[('pipeline-1',\n",
       "                                                  Pipeline(steps=[('minmaxscaler',\n",
       "                                                                   MinMaxScaler(feature_range=(-1,\n",
       "                                                                                               1)))]),\n",
       "                                                  <sklearn.compose._column_transformer.make_column_selector object at 0x000002108AC65E90>),\n",
       "                                                 ('pipeline-2',\n",
       "                                                  Pipeline(steps=[('onehotencoder',\n",
       "                                                                   OneHotEncoder())]),\n",
       "                                                  <sklearn.compose._column_transformer.make_column_selector object at 0x000002108AC65B10>)])),\n",
       "                ('linearregression', LinearRegression())])"
      ]
     },
     "execution_count": 102,
     "metadata": {},
     "output_type": "execute_result"
    }
   ],
   "source": [
    "#Train linear model\n",
    "from sklearn.linear_model import LinearRegression\n",
    "Fit_model = make_pipeline(preprocessing,LinearRegression())\n",
    "Fit_model.fit(MathE_train_set_input,MathE_train_set_labels)"
   ]
  },
  {
   "cell_type": "code",
   "execution_count": 164,
   "id": "ee110884-b5c2-4a33-aa52-818159197e58",
   "metadata": {},
   "outputs": [],
   "source": [
    "#Linear model: make a prediction\n",
    "Linear_model_prediction = Fit_model.predict(MathE_train_set_input)"
   ]
  },
  {
   "cell_type": "code",
   "execution_count": 166,
   "id": "5d4ad217-f41a-41f7-b141-c48556c1343e",
   "metadata": {},
   "outputs": [],
   "source": [
    "#Linear model: calculate RMSE  \n",
    "from sklearn.metrics import mean_squared_error\n",
    "Linear_model_RMSE= mean_squared_error(MathE_train_set_labels,Linear_model_prediction, squared=False)"
   ]
  },
  {
   "cell_type": "code",
   "execution_count": 108,
   "id": "03c92362-6b56-4ac5-865f-886fac620c27",
   "metadata": {},
   "outputs": [
    {
     "data": {
      "text/html": [
       "<style>#sk-container-id-6 {color: black;background-color: white;}#sk-container-id-6 pre{padding: 0;}#sk-container-id-6 div.sk-toggleable {background-color: white;}#sk-container-id-6 label.sk-toggleable__label {cursor: pointer;display: block;width: 100%;margin-bottom: 0;padding: 0.3em;box-sizing: border-box;text-align: center;}#sk-container-id-6 label.sk-toggleable__label-arrow:before {content: \"▸\";float: left;margin-right: 0.25em;color: #696969;}#sk-container-id-6 label.sk-toggleable__label-arrow:hover:before {color: black;}#sk-container-id-6 div.sk-estimator:hover label.sk-toggleable__label-arrow:before {color: black;}#sk-container-id-6 div.sk-toggleable__content {max-height: 0;max-width: 0;overflow: hidden;text-align: left;background-color: #f0f8ff;}#sk-container-id-6 div.sk-toggleable__content pre {margin: 0.2em;color: black;border-radius: 0.25em;background-color: #f0f8ff;}#sk-container-id-6 input.sk-toggleable__control:checked~div.sk-toggleable__content {max-height: 200px;max-width: 100%;overflow: auto;}#sk-container-id-6 input.sk-toggleable__control:checked~label.sk-toggleable__label-arrow:before {content: \"▾\";}#sk-container-id-6 div.sk-estimator input.sk-toggleable__control:checked~label.sk-toggleable__label {background-color: #d4ebff;}#sk-container-id-6 div.sk-label input.sk-toggleable__control:checked~label.sk-toggleable__label {background-color: #d4ebff;}#sk-container-id-6 input.sk-hidden--visually {border: 0;clip: rect(1px 1px 1px 1px);clip: rect(1px, 1px, 1px, 1px);height: 1px;margin: -1px;overflow: hidden;padding: 0;position: absolute;width: 1px;}#sk-container-id-6 div.sk-estimator {font-family: monospace;background-color: #f0f8ff;border: 1px dotted black;border-radius: 0.25em;box-sizing: border-box;margin-bottom: 0.5em;}#sk-container-id-6 div.sk-estimator:hover {background-color: #d4ebff;}#sk-container-id-6 div.sk-parallel-item::after {content: \"\";width: 100%;border-bottom: 1px solid gray;flex-grow: 1;}#sk-container-id-6 div.sk-label:hover label.sk-toggleable__label {background-color: #d4ebff;}#sk-container-id-6 div.sk-serial::before {content: \"\";position: absolute;border-left: 1px solid gray;box-sizing: border-box;top: 0;bottom: 0;left: 50%;z-index: 0;}#sk-container-id-6 div.sk-serial {display: flex;flex-direction: column;align-items: center;background-color: white;padding-right: 0.2em;padding-left: 0.2em;position: relative;}#sk-container-id-6 div.sk-item {position: relative;z-index: 1;}#sk-container-id-6 div.sk-parallel {display: flex;align-items: stretch;justify-content: center;background-color: white;position: relative;}#sk-container-id-6 div.sk-item::before, #sk-container-id-6 div.sk-parallel-item::before {content: \"\";position: absolute;border-left: 1px solid gray;box-sizing: border-box;top: 0;bottom: 0;left: 50%;z-index: -1;}#sk-container-id-6 div.sk-parallel-item {display: flex;flex-direction: column;z-index: 1;position: relative;background-color: white;}#sk-container-id-6 div.sk-parallel-item:first-child::after {align-self: flex-end;width: 50%;}#sk-container-id-6 div.sk-parallel-item:last-child::after {align-self: flex-start;width: 50%;}#sk-container-id-6 div.sk-parallel-item:only-child::after {width: 0;}#sk-container-id-6 div.sk-dashed-wrapped {border: 1px dashed gray;margin: 0 0.4em 0.5em 0.4em;box-sizing: border-box;padding-bottom: 0.4em;background-color: white;}#sk-container-id-6 div.sk-label label {font-family: monospace;font-weight: bold;display: inline-block;line-height: 1.2em;}#sk-container-id-6 div.sk-label-container {text-align: center;}#sk-container-id-6 div.sk-container {/* jupyter's `normalize.less` sets `[hidden] { display: none; }` but bootstrap.min.css set `[hidden] { display: none !important; }` so we also need the `!important` here to be able to override the default hidden behavior on the sphinx rendered scikit-learn.org. See: https://github.com/scikit-learn/scikit-learn/issues/21755 */display: inline-block !important;position: relative;}#sk-container-id-6 div.sk-text-repr-fallback {display: none;}</style><div id=\"sk-container-id-6\" class=\"sk-top-container\"><div class=\"sk-text-repr-fallback\"><pre>Pipeline(steps=[(&#x27;columntransformer&#x27;,\n",
       "                 ColumnTransformer(transformers=[(&#x27;pipeline-1&#x27;,\n",
       "                                                  Pipeline(steps=[(&#x27;minmaxscaler&#x27;,\n",
       "                                                                   MinMaxScaler(feature_range=(-1,\n",
       "                                                                                               1)))]),\n",
       "                                                  &lt;sklearn.compose._column_transformer.make_column_selector object at 0x000002108AC65E90&gt;),\n",
       "                                                 (&#x27;pipeline-2&#x27;,\n",
       "                                                  Pipeline(steps=[(&#x27;onehotencoder&#x27;,\n",
       "                                                                   OneHotEncoder())]),\n",
       "                                                  &lt;sklearn.compose._column_transformer.make_column_selector object at 0x000002108AC65B10&gt;)])),\n",
       "                (&#x27;decisiontreeregressor&#x27;,\n",
       "                 DecisionTreeRegressor(random_state=42))])</pre><b>In a Jupyter environment, please rerun this cell to show the HTML representation or trust the notebook. <br />On GitHub, the HTML representation is unable to render, please try loading this page with nbviewer.org.</b></div><div class=\"sk-container\" hidden><div class=\"sk-item sk-dashed-wrapped\"><div class=\"sk-label-container\"><div class=\"sk-label sk-toggleable\"><input class=\"sk-toggleable__control sk-hidden--visually\" id=\"sk-estimator-id-37\" type=\"checkbox\" ><label for=\"sk-estimator-id-37\" class=\"sk-toggleable__label sk-toggleable__label-arrow\">Pipeline</label><div class=\"sk-toggleable__content\"><pre>Pipeline(steps=[(&#x27;columntransformer&#x27;,\n",
       "                 ColumnTransformer(transformers=[(&#x27;pipeline-1&#x27;,\n",
       "                                                  Pipeline(steps=[(&#x27;minmaxscaler&#x27;,\n",
       "                                                                   MinMaxScaler(feature_range=(-1,\n",
       "                                                                                               1)))]),\n",
       "                                                  &lt;sklearn.compose._column_transformer.make_column_selector object at 0x000002108AC65E90&gt;),\n",
       "                                                 (&#x27;pipeline-2&#x27;,\n",
       "                                                  Pipeline(steps=[(&#x27;onehotencoder&#x27;,\n",
       "                                                                   OneHotEncoder())]),\n",
       "                                                  &lt;sklearn.compose._column_transformer.make_column_selector object at 0x000002108AC65B10&gt;)])),\n",
       "                (&#x27;decisiontreeregressor&#x27;,\n",
       "                 DecisionTreeRegressor(random_state=42))])</pre></div></div></div><div class=\"sk-serial\"><div class=\"sk-item sk-dashed-wrapped\"><div class=\"sk-label-container\"><div class=\"sk-label sk-toggleable\"><input class=\"sk-toggleable__control sk-hidden--visually\" id=\"sk-estimator-id-38\" type=\"checkbox\" ><label for=\"sk-estimator-id-38\" class=\"sk-toggleable__label sk-toggleable__label-arrow\">columntransformer: ColumnTransformer</label><div class=\"sk-toggleable__content\"><pre>ColumnTransformer(transformers=[(&#x27;pipeline-1&#x27;,\n",
       "                                 Pipeline(steps=[(&#x27;minmaxscaler&#x27;,\n",
       "                                                  MinMaxScaler(feature_range=(-1,\n",
       "                                                                              1)))]),\n",
       "                                 &lt;sklearn.compose._column_transformer.make_column_selector object at 0x000002108AC65E90&gt;),\n",
       "                                (&#x27;pipeline-2&#x27;,\n",
       "                                 Pipeline(steps=[(&#x27;onehotencoder&#x27;,\n",
       "                                                  OneHotEncoder())]),\n",
       "                                 &lt;sklearn.compose._column_transformer.make_column_selector object at 0x000002108AC65B10&gt;)])</pre></div></div></div><div class=\"sk-parallel\"><div class=\"sk-parallel-item\"><div class=\"sk-item\"><div class=\"sk-label-container\"><div class=\"sk-label sk-toggleable\"><input class=\"sk-toggleable__control sk-hidden--visually\" id=\"sk-estimator-id-39\" type=\"checkbox\" ><label for=\"sk-estimator-id-39\" class=\"sk-toggleable__label sk-toggleable__label-arrow\">pipeline-1</label><div class=\"sk-toggleable__content\"><pre>&lt;sklearn.compose._column_transformer.make_column_selector object at 0x000002108AC65E90&gt;</pre></div></div></div><div class=\"sk-serial\"><div class=\"sk-item\"><div class=\"sk-serial\"><div class=\"sk-item\"><div class=\"sk-estimator sk-toggleable\"><input class=\"sk-toggleable__control sk-hidden--visually\" id=\"sk-estimator-id-40\" type=\"checkbox\" ><label for=\"sk-estimator-id-40\" class=\"sk-toggleable__label sk-toggleable__label-arrow\">MinMaxScaler</label><div class=\"sk-toggleable__content\"><pre>MinMaxScaler(feature_range=(-1, 1))</pre></div></div></div></div></div></div></div></div><div class=\"sk-parallel-item\"><div class=\"sk-item\"><div class=\"sk-label-container\"><div class=\"sk-label sk-toggleable\"><input class=\"sk-toggleable__control sk-hidden--visually\" id=\"sk-estimator-id-41\" type=\"checkbox\" ><label for=\"sk-estimator-id-41\" class=\"sk-toggleable__label sk-toggleable__label-arrow\">pipeline-2</label><div class=\"sk-toggleable__content\"><pre>&lt;sklearn.compose._column_transformer.make_column_selector object at 0x000002108AC65B10&gt;</pre></div></div></div><div class=\"sk-serial\"><div class=\"sk-item\"><div class=\"sk-serial\"><div class=\"sk-item\"><div class=\"sk-estimator sk-toggleable\"><input class=\"sk-toggleable__control sk-hidden--visually\" id=\"sk-estimator-id-42\" type=\"checkbox\" ><label for=\"sk-estimator-id-42\" class=\"sk-toggleable__label sk-toggleable__label-arrow\">OneHotEncoder</label><div class=\"sk-toggleable__content\"><pre>OneHotEncoder()</pre></div></div></div></div></div></div></div></div></div></div><div class=\"sk-item\"><div class=\"sk-estimator sk-toggleable\"><input class=\"sk-toggleable__control sk-hidden--visually\" id=\"sk-estimator-id-43\" type=\"checkbox\" ><label for=\"sk-estimator-id-43\" class=\"sk-toggleable__label sk-toggleable__label-arrow\">DecisionTreeRegressor</label><div class=\"sk-toggleable__content\"><pre>DecisionTreeRegressor(random_state=42)</pre></div></div></div></div></div></div></div>"
      ],
      "text/plain": [
       "Pipeline(steps=[('columntransformer',\n",
       "                 ColumnTransformer(transformers=[('pipeline-1',\n",
       "                                                  Pipeline(steps=[('minmaxscaler',\n",
       "                                                                   MinMaxScaler(feature_range=(-1,\n",
       "                                                                                               1)))]),\n",
       "                                                  <sklearn.compose._column_transformer.make_column_selector object at 0x000002108AC65E90>),\n",
       "                                                 ('pipeline-2',\n",
       "                                                  Pipeline(steps=[('onehotencoder',\n",
       "                                                                   OneHotEncoder())]),\n",
       "                                                  <sklearn.compose._column_transformer.make_column_selector object at 0x000002108AC65B10>)])),\n",
       "                ('decisiontreeregressor',\n",
       "                 DecisionTreeRegressor(random_state=42))])"
      ]
     },
     "execution_count": 108,
     "metadata": {},
     "output_type": "execute_result"
    }
   ],
   "source": [
    "#DescisionTreeRegression: train model, predict\n",
    "from sklearn.tree import DecisionTreeRegressor\n",
    "Fit_model_DTR = make_pipeline(preprocessing,DecisionTreeRegressor(random_state=42))\n",
    "Fit_model_DTR.fit(MathE_train_set_input,MathE_train_set_labels)\n"
   ]
  },
  {
   "cell_type": "code",
   "execution_count": 110,
   "id": "56fe338a-b37a-4767-ad61-99829d655656",
   "metadata": {},
   "outputs": [],
   "source": [
    "DTR_model_prediction = Fit_model_DTR.predict(MathE_train_set_input)"
   ]
  },
  {
   "cell_type": "code",
   "execution_count": 168,
   "id": "f2ad5c00-dae7-4c2a-a71d-7ed3fab2f965",
   "metadata": {},
   "outputs": [],
   "source": [
    "#Decsion Tree Regression model: calculate RMSE  \n",
    "DTR_model_RMSE = mean_squared_error(MathE_train_set_labels,DTR_model_prediction, squared=False)\n"
   ]
  },
  {
   "cell_type": "code",
   "execution_count": 114,
   "id": "82fab545-b223-4f7c-b8a3-b15f3d024ca6",
   "metadata": {},
   "outputs": [],
   "source": [
    "#Random Forest Reagression (RFR) model: preprocessing, train model, predict, RMSE calculation\n",
    "from sklearn.ensemble import RandomForestRegressor, HistGradientBoostingRegressor\n",
    "Fit_model_RFR = make_pipeline(preprocessing,RandomForestRegressor(random_state=42))\n",
    "Fit_model_RFR.fit(MathE_train_set_input,MathE_train_set_labels)\n",
    "RFR_model_prediction = Fit_model_RFR.predict(MathE_train_set_input)"
   ]
  },
  {
   "cell_type": "code",
   "execution_count": 170,
   "id": "1b00c6c4-f2d2-44b5-b6cf-c5b7478a49fe",
   "metadata": {},
   "outputs": [],
   "source": [
    "RFR_model_RMSE = mean_squared_error(MathE_train_set_labels,RFR_model_prediction, squared=False)"
   ]
  },
  {
   "cell_type": "code",
   "execution_count": null,
   "id": "318723e6-3db6-46d0-9ce2-fe0d759472e4",
   "metadata": {},
   "outputs": [],
   "source": [
    "#Histogram Gradient Boosting (HGB) model: preprocessing, train model, predict, RMSE calculation\n",
    "#Fit_model_HGB = make_pipeline(preprocessing, HistGradientBoostingRegressor(random_state=42))\n",
    "#Fit_model_HGB.fit(MathE_train_set_input, MathE_train_set_labels)\n",
    "#HGB_model_prediction = Fit_model_HGB.predict(MathE_train_set_input)"
   ]
  },
  {
   "cell_type": "code",
   "execution_count": null,
   "id": "30ef11e2-0c42-4edb-bf41-bc4988750b02",
   "metadata": {},
   "outputs": [],
   "source": [
    "#HGB_model_RMSE = mean_squared_error(MathE_train_set_labels,HGB_model_pr"
   ]
  },
  {
   "cell_type": "code",
   "execution_count": 118,
   "id": "bd8583de-4eed-4c2e-8f4e-d55202c6c6ed",
   "metadata": {},
   "outputs": [],
   "source": [
    "def Binary_output(dataset,parameter=0.5, set_column_name=\"Transformed output\"):\n",
    "    #This function assigned a value of either 0 or 1 depending on whether the datum is below or equal to a set hyperparameter\n",
    "    #expected input is  1 x n table or a column\n",
    "    transformed_dataset=[]\n",
    "    for instance in dataset:\n",
    "        if instance <= parameter:\n",
    "            transformed_dataset.append(0)\n",
    "        else:\n",
    "            transformed_dataset.append(1)\n",
    "    return pd.DataFrame(transformed_dataset, columns=[set_column_name], index =list(range(0,len(dataset))))\n",
    "\n",
    "def RMSE_Binary_output(dataset,labels,parameter=0.5):\n",
    "    prediction = Binary_output(dataset,parameter)\n",
    "    return mean_squared_error(labels,prediction,squared=False)\n",
    "\n"
   ]
  },
  {
   "cell_type": "code",
   "execution_count": 120,
   "id": "c695c8e5-d21c-405e-8e40-4bcb1109e74e",
   "metadata": {},
   "outputs": [
    {
     "data": {
      "text/plain": [
       "[0.6822220496961903, 0.28927937415620447, 0.28927937415620447]"
      ]
     },
     "execution_count": 120,
     "metadata": {},
     "output_type": "execute_result"
    }
   ],
   "source": [
    "Prediction_summary = []\n",
    "predictions = {\"Linear_model_prediction\":Linear_model_prediction,\"DTR_model_prediction\":DTR_model_prediction,\"RFR_model_prediction\":RFR_model_prediction}\n",
    "for predict in predictions:\n",
    "    Prediction_summary.append(RMSE_Binary_output(predictions[predict],MathE_train_set_labels,0.5))\n",
    "Prediction_summary"
   ]
  },
  {
   "cell_type": "code",
   "execution_count": null,
   "id": "c86a2ee7-dc33-4ca7-9254-24946461565e",
   "metadata": {},
   "outputs": [],
   "source": [
    "import matplotlib.pyplot as plt"
   ]
  },
  {
   "cell_type": "code",
   "execution_count": null,
   "id": "baafb3f9-97c5-4c77-aff2-f00b95efa11e",
   "metadata": {},
   "outputs": [],
   "source": [
    "plt.scatter(Df[\"Hyperparameter\"],Df[\"DTR RMSE\"], c=\"yellow\",marker=\"^\",edgecolors=\"green\",s=200,linewidths=2,label='DescisionTreeRegression')\n",
    "plt.scatter(Df[\"Hyperparameter\"],Df[\"LR RMSE\"], c=\"blue\",marker=\"^\",edgecolors=\"pink\",s=200,linewidths=2,label='Linear Regression')\n",
    "plt.xlabel(\"Hyperparameter\")\n",
    "plt.ylabel(\"RMSE\")\n",
    "plt.legend()\n",
    "plt.show()"
   ]
  },
  {
   "cell_type": "markdown",
   "id": "c599a15a-b284-425c-96a8-e81dd2ba5735",
   "metadata": {},
   "source": [
    "**The data shows that DTR model performs better on the training set than both the Random Forest Regressor and the linear regression model**\n",
    "\n",
    "**The DTR RMSE reaches its minimum when the Binary split parameter is apprximately 0.5**\n",
    "\n",
    "**thes RMSE is near .3 there is no appearant indication that the model has overfitted the training set**"
   ]
  },
  {
   "cell_type": "markdown",
   "id": "fb185a14-e2c5-4ae1-9cf8-dcb4c965dd41",
   "metadata": {},
   "source": [
    "---------------------------------------------------------------------------------------------------"
   ]
  },
  {
   "cell_type": "markdown",
   "id": "012f36b5-af9d-4989-a9b2-1fcf8d3f6981",
   "metadata": {},
   "source": [
    "**Evaluating the model using cross-validation**"
   ]
  },
  {
   "cell_type": "code",
   "execution_count": 122,
   "id": "75d1ac0c-5465-43e2-acc4-5ee83e514991",
   "metadata": {},
   "outputs": [],
   "source": [
    "#performing the cross-validation without the the hyperparameter optimization\n",
    "from sklearn.model_selection import cross_val_score\n",
    "Cross_Eval = -cross_val_score(Fit_model_RFR, MathE_train_set_input, MathE_train_set_labels, scoring=\"neg_root_mean_squared_error\",cv=10)"
   ]
  },
  {
   "cell_type": "code",
   "execution_count": 124,
   "id": "cbc054ce-edbc-4f34-b009-4e405279494d",
   "metadata": {},
   "outputs": [
    {
     "data": {
      "text/plain": [
       "count    10.00\n",
       "mean      0.51\n",
       "std       0.01\n",
       "min       0.50\n",
       "25%       0.51\n",
       "50%       0.51\n",
       "75%       0.52\n",
       "max       0.52\n",
       "dtype: float64"
      ]
     },
     "execution_count": 124,
     "metadata": {},
     "output_type": "execute_result"
    }
   ],
   "source": [
    "pd.Series(Cross_Eval).describe().round(2)"
   ]
  },
  {
   "cell_type": "markdown",
   "id": "39dd1794-3358-460d-b712-2553d52f84ac",
   "metadata": {},
   "source": [
    "**The model performing poorly after cross-validation. This could be an indication that the model was overfitting the data initially??**\n",
    "\n",
    "**It perform worse than the linear model**"
   ]
  },
  {
   "cell_type": "markdown",
   "id": "23535552-79a8-4b62-b09f-b365a8c0e815",
   "metadata": {},
   "source": [
    "**Using RandomSearchCV to find the optimal hyperparameter for our model** "
   ]
  },
  {
   "cell_type": "code",
   "execution_count": 126,
   "id": "2ed6544f-cbe1-400a-9459-5fc6cf3db83c",
   "metadata": {},
   "outputs": [],
   "source": [
    "from sklearn.model_selection import RandomizedSearchCV\n",
    "from scipy.stats import randint\n",
    "param_distributions = {\n",
    "    'randomforestregressor__max_features': randint(low=2, high=20),\n",
    "}\n",
    "Random_search = RandomizedSearchCV(Fit_model_RFR,param_distributions,n_iter=10, cv=3,scoring=\"neg_root_mean_squared_error\",random_state=42)"
   ]
  },
  {
   "cell_type": "code",
   "execution_count": 128,
   "id": "ae4cbd65-9616-47d1-bee4-97b7ed57fca6",
   "metadata": {},
   "outputs": [
    {
     "data": {
      "text/html": [
       "<style>#sk-container-id-7 {color: black;background-color: white;}#sk-container-id-7 pre{padding: 0;}#sk-container-id-7 div.sk-toggleable {background-color: white;}#sk-container-id-7 label.sk-toggleable__label {cursor: pointer;display: block;width: 100%;margin-bottom: 0;padding: 0.3em;box-sizing: border-box;text-align: center;}#sk-container-id-7 label.sk-toggleable__label-arrow:before {content: \"▸\";float: left;margin-right: 0.25em;color: #696969;}#sk-container-id-7 label.sk-toggleable__label-arrow:hover:before {color: black;}#sk-container-id-7 div.sk-estimator:hover label.sk-toggleable__label-arrow:before {color: black;}#sk-container-id-7 div.sk-toggleable__content {max-height: 0;max-width: 0;overflow: hidden;text-align: left;background-color: #f0f8ff;}#sk-container-id-7 div.sk-toggleable__content pre {margin: 0.2em;color: black;border-radius: 0.25em;background-color: #f0f8ff;}#sk-container-id-7 input.sk-toggleable__control:checked~div.sk-toggleable__content {max-height: 200px;max-width: 100%;overflow: auto;}#sk-container-id-7 input.sk-toggleable__control:checked~label.sk-toggleable__label-arrow:before {content: \"▾\";}#sk-container-id-7 div.sk-estimator input.sk-toggleable__control:checked~label.sk-toggleable__label {background-color: #d4ebff;}#sk-container-id-7 div.sk-label input.sk-toggleable__control:checked~label.sk-toggleable__label {background-color: #d4ebff;}#sk-container-id-7 input.sk-hidden--visually {border: 0;clip: rect(1px 1px 1px 1px);clip: rect(1px, 1px, 1px, 1px);height: 1px;margin: -1px;overflow: hidden;padding: 0;position: absolute;width: 1px;}#sk-container-id-7 div.sk-estimator {font-family: monospace;background-color: #f0f8ff;border: 1px dotted black;border-radius: 0.25em;box-sizing: border-box;margin-bottom: 0.5em;}#sk-container-id-7 div.sk-estimator:hover {background-color: #d4ebff;}#sk-container-id-7 div.sk-parallel-item::after {content: \"\";width: 100%;border-bottom: 1px solid gray;flex-grow: 1;}#sk-container-id-7 div.sk-label:hover label.sk-toggleable__label {background-color: #d4ebff;}#sk-container-id-7 div.sk-serial::before {content: \"\";position: absolute;border-left: 1px solid gray;box-sizing: border-box;top: 0;bottom: 0;left: 50%;z-index: 0;}#sk-container-id-7 div.sk-serial {display: flex;flex-direction: column;align-items: center;background-color: white;padding-right: 0.2em;padding-left: 0.2em;position: relative;}#sk-container-id-7 div.sk-item {position: relative;z-index: 1;}#sk-container-id-7 div.sk-parallel {display: flex;align-items: stretch;justify-content: center;background-color: white;position: relative;}#sk-container-id-7 div.sk-item::before, #sk-container-id-7 div.sk-parallel-item::before {content: \"\";position: absolute;border-left: 1px solid gray;box-sizing: border-box;top: 0;bottom: 0;left: 50%;z-index: -1;}#sk-container-id-7 div.sk-parallel-item {display: flex;flex-direction: column;z-index: 1;position: relative;background-color: white;}#sk-container-id-7 div.sk-parallel-item:first-child::after {align-self: flex-end;width: 50%;}#sk-container-id-7 div.sk-parallel-item:last-child::after {align-self: flex-start;width: 50%;}#sk-container-id-7 div.sk-parallel-item:only-child::after {width: 0;}#sk-container-id-7 div.sk-dashed-wrapped {border: 1px dashed gray;margin: 0 0.4em 0.5em 0.4em;box-sizing: border-box;padding-bottom: 0.4em;background-color: white;}#sk-container-id-7 div.sk-label label {font-family: monospace;font-weight: bold;display: inline-block;line-height: 1.2em;}#sk-container-id-7 div.sk-label-container {text-align: center;}#sk-container-id-7 div.sk-container {/* jupyter's `normalize.less` sets `[hidden] { display: none; }` but bootstrap.min.css set `[hidden] { display: none !important; }` so we also need the `!important` here to be able to override the default hidden behavior on the sphinx rendered scikit-learn.org. See: https://github.com/scikit-learn/scikit-learn/issues/21755 */display: inline-block !important;position: relative;}#sk-container-id-7 div.sk-text-repr-fallback {display: none;}</style><div id=\"sk-container-id-7\" class=\"sk-top-container\"><div class=\"sk-text-repr-fallback\"><pre>RandomizedSearchCV(cv=3,\n",
       "                   estimator=Pipeline(steps=[(&#x27;columntransformer&#x27;,\n",
       "                                              ColumnTransformer(transformers=[(&#x27;pipeline-1&#x27;,\n",
       "                                                                               Pipeline(steps=[(&#x27;minmaxscaler&#x27;,\n",
       "                                                                                                MinMaxScaler(feature_range=(-1,\n",
       "                                                                                                                            1)))]),\n",
       "                                                                               &lt;sklearn.compose._column_transformer.make_column_selector object at 0x000002108AC65E90&gt;),\n",
       "                                                                              (&#x27;pipeline-2&#x27;,\n",
       "                                                                               Pipeline(steps=[(&#x27;onehotencoder&#x27;,\n",
       "                                                                                                OneHotEncoder())]),\n",
       "                                                                               &lt;sklearn.compose._column_transformer.make_column_selector object at 0x000002108AC65B10&gt;)])),\n",
       "                                             (&#x27;randomforestregressor&#x27;,\n",
       "                                              RandomForestRegressor(random_state=42))]),\n",
       "                   param_distributions={&#x27;randomforestregressor__max_features&#x27;: &lt;scipy.stats._distn_infrastructure.rv_discrete_frozen object at 0x000002108A9220D0&gt;},\n",
       "                   random_state=42, scoring=&#x27;neg_root_mean_squared_error&#x27;)</pre><b>In a Jupyter environment, please rerun this cell to show the HTML representation or trust the notebook. <br />On GitHub, the HTML representation is unable to render, please try loading this page with nbviewer.org.</b></div><div class=\"sk-container\" hidden><div class=\"sk-item sk-dashed-wrapped\"><div class=\"sk-label-container\"><div class=\"sk-label sk-toggleable\"><input class=\"sk-toggleable__control sk-hidden--visually\" id=\"sk-estimator-id-44\" type=\"checkbox\" ><label for=\"sk-estimator-id-44\" class=\"sk-toggleable__label sk-toggleable__label-arrow\">RandomizedSearchCV</label><div class=\"sk-toggleable__content\"><pre>RandomizedSearchCV(cv=3,\n",
       "                   estimator=Pipeline(steps=[(&#x27;columntransformer&#x27;,\n",
       "                                              ColumnTransformer(transformers=[(&#x27;pipeline-1&#x27;,\n",
       "                                                                               Pipeline(steps=[(&#x27;minmaxscaler&#x27;,\n",
       "                                                                                                MinMaxScaler(feature_range=(-1,\n",
       "                                                                                                                            1)))]),\n",
       "                                                                               &lt;sklearn.compose._column_transformer.make_column_selector object at 0x000002108AC65E90&gt;),\n",
       "                                                                              (&#x27;pipeline-2&#x27;,\n",
       "                                                                               Pipeline(steps=[(&#x27;onehotencoder&#x27;,\n",
       "                                                                                                OneHotEncoder())]),\n",
       "                                                                               &lt;sklearn.compose._column_transformer.make_column_selector object at 0x000002108AC65B10&gt;)])),\n",
       "                                             (&#x27;randomforestregressor&#x27;,\n",
       "                                              RandomForestRegressor(random_state=42))]),\n",
       "                   param_distributions={&#x27;randomforestregressor__max_features&#x27;: &lt;scipy.stats._distn_infrastructure.rv_discrete_frozen object at 0x000002108A9220D0&gt;},\n",
       "                   random_state=42, scoring=&#x27;neg_root_mean_squared_error&#x27;)</pre></div></div></div><div class=\"sk-parallel\"><div class=\"sk-parallel-item\"><div class=\"sk-item\"><div class=\"sk-label-container\"><div class=\"sk-label sk-toggleable\"><input class=\"sk-toggleable__control sk-hidden--visually\" id=\"sk-estimator-id-45\" type=\"checkbox\" ><label for=\"sk-estimator-id-45\" class=\"sk-toggleable__label sk-toggleable__label-arrow\">estimator: Pipeline</label><div class=\"sk-toggleable__content\"><pre>Pipeline(steps=[(&#x27;columntransformer&#x27;,\n",
       "                 ColumnTransformer(transformers=[(&#x27;pipeline-1&#x27;,\n",
       "                                                  Pipeline(steps=[(&#x27;minmaxscaler&#x27;,\n",
       "                                                                   MinMaxScaler(feature_range=(-1,\n",
       "                                                                                               1)))]),\n",
       "                                                  &lt;sklearn.compose._column_transformer.make_column_selector object at 0x000002108AC65E90&gt;),\n",
       "                                                 (&#x27;pipeline-2&#x27;,\n",
       "                                                  Pipeline(steps=[(&#x27;onehotencoder&#x27;,\n",
       "                                                                   OneHotEncoder())]),\n",
       "                                                  &lt;sklearn.compose._column_transformer.make_column_selector object at 0x000002108AC65B10&gt;)])),\n",
       "                (&#x27;randomforestregressor&#x27;,\n",
       "                 RandomForestRegressor(random_state=42))])</pre></div></div></div><div class=\"sk-serial\"><div class=\"sk-item\"><div class=\"sk-serial\"><div class=\"sk-item sk-dashed-wrapped\"><div class=\"sk-label-container\"><div class=\"sk-label sk-toggleable\"><input class=\"sk-toggleable__control sk-hidden--visually\" id=\"sk-estimator-id-46\" type=\"checkbox\" ><label for=\"sk-estimator-id-46\" class=\"sk-toggleable__label sk-toggleable__label-arrow\">columntransformer: ColumnTransformer</label><div class=\"sk-toggleable__content\"><pre>ColumnTransformer(transformers=[(&#x27;pipeline-1&#x27;,\n",
       "                                 Pipeline(steps=[(&#x27;minmaxscaler&#x27;,\n",
       "                                                  MinMaxScaler(feature_range=(-1,\n",
       "                                                                              1)))]),\n",
       "                                 &lt;sklearn.compose._column_transformer.make_column_selector object at 0x000002108AC65E90&gt;),\n",
       "                                (&#x27;pipeline-2&#x27;,\n",
       "                                 Pipeline(steps=[(&#x27;onehotencoder&#x27;,\n",
       "                                                  OneHotEncoder())]),\n",
       "                                 &lt;sklearn.compose._column_transformer.make_column_selector object at 0x000002108AC65B10&gt;)])</pre></div></div></div><div class=\"sk-parallel\"><div class=\"sk-parallel-item\"><div class=\"sk-item\"><div class=\"sk-label-container\"><div class=\"sk-label sk-toggleable\"><input class=\"sk-toggleable__control sk-hidden--visually\" id=\"sk-estimator-id-47\" type=\"checkbox\" ><label for=\"sk-estimator-id-47\" class=\"sk-toggleable__label sk-toggleable__label-arrow\">pipeline-1</label><div class=\"sk-toggleable__content\"><pre>&lt;sklearn.compose._column_transformer.make_column_selector object at 0x000002108AC65E90&gt;</pre></div></div></div><div class=\"sk-serial\"><div class=\"sk-item\"><div class=\"sk-serial\"><div class=\"sk-item\"><div class=\"sk-estimator sk-toggleable\"><input class=\"sk-toggleable__control sk-hidden--visually\" id=\"sk-estimator-id-48\" type=\"checkbox\" ><label for=\"sk-estimator-id-48\" class=\"sk-toggleable__label sk-toggleable__label-arrow\">MinMaxScaler</label><div class=\"sk-toggleable__content\"><pre>MinMaxScaler(feature_range=(-1, 1))</pre></div></div></div></div></div></div></div></div><div class=\"sk-parallel-item\"><div class=\"sk-item\"><div class=\"sk-label-container\"><div class=\"sk-label sk-toggleable\"><input class=\"sk-toggleable__control sk-hidden--visually\" id=\"sk-estimator-id-49\" type=\"checkbox\" ><label for=\"sk-estimator-id-49\" class=\"sk-toggleable__label sk-toggleable__label-arrow\">pipeline-2</label><div class=\"sk-toggleable__content\"><pre>&lt;sklearn.compose._column_transformer.make_column_selector object at 0x000002108AC65B10&gt;</pre></div></div></div><div class=\"sk-serial\"><div class=\"sk-item\"><div class=\"sk-serial\"><div class=\"sk-item\"><div class=\"sk-estimator sk-toggleable\"><input class=\"sk-toggleable__control sk-hidden--visually\" id=\"sk-estimator-id-50\" type=\"checkbox\" ><label for=\"sk-estimator-id-50\" class=\"sk-toggleable__label sk-toggleable__label-arrow\">OneHotEncoder</label><div class=\"sk-toggleable__content\"><pre>OneHotEncoder()</pre></div></div></div></div></div></div></div></div></div></div><div class=\"sk-item\"><div class=\"sk-estimator sk-toggleable\"><input class=\"sk-toggleable__control sk-hidden--visually\" id=\"sk-estimator-id-51\" type=\"checkbox\" ><label for=\"sk-estimator-id-51\" class=\"sk-toggleable__label sk-toggleable__label-arrow\">RandomForestRegressor</label><div class=\"sk-toggleable__content\"><pre>RandomForestRegressor(random_state=42)</pre></div></div></div></div></div></div></div></div></div></div></div></div>"
      ],
      "text/plain": [
       "RandomizedSearchCV(cv=3,\n",
       "                   estimator=Pipeline(steps=[('columntransformer',\n",
       "                                              ColumnTransformer(transformers=[('pipeline-1',\n",
       "                                                                               Pipeline(steps=[('minmaxscaler',\n",
       "                                                                                                MinMaxScaler(feature_range=(-1,\n",
       "                                                                                                                            1)))]),\n",
       "                                                                               <sklearn.compose._column_transformer.make_column_selector object at 0x000002108AC65E90>),\n",
       "                                                                              ('pipeline-2',\n",
       "                                                                               Pipeline(steps=[('onehotencoder',\n",
       "                                                                                                OneHotEncoder())]),\n",
       "                                                                               <sklearn.compose._column_transformer.make_column_selector object at 0x000002108AC65B10>)])),\n",
       "                                             ('randomforestregressor',\n",
       "                                              RandomForestRegressor(random_state=42))]),\n",
       "                   param_distributions={'randomforestregressor__max_features': <scipy.stats._distn_infrastructure.rv_discrete_frozen object at 0x000002108A9220D0>},\n",
       "                   random_state=42, scoring='neg_root_mean_squared_error')"
      ]
     },
     "execution_count": 128,
     "metadata": {},
     "output_type": "execute_result"
    }
   ],
   "source": [
    "Random_search.fit(MathE_train_set_input,MathE_train_set_labels)"
   ]
  },
  {
   "cell_type": "code",
   "execution_count": 130,
   "id": "9fbf302a-08e0-4133-8094-ffda8aa26056",
   "metadata": {},
   "outputs": [],
   "source": [
    "best_model = Random_search.best_estimator_"
   ]
  },
  {
   "cell_type": "code",
   "execution_count": 132,
   "id": "1e90778c-35f0-4c12-a08c-5debdf9238da",
   "metadata": {},
   "outputs": [
    {
     "data": {
      "text/plain": [
       "[(0.6331860603632784, 'pipeline-1__Question ID'),\n",
       " (0.3668139396367216, 'pipeline-1__Student ID')]"
      ]
     },
     "execution_count": 132,
     "metadata": {},
     "output_type": "execute_result"
    }
   ],
   "source": [
    "feature_importance = best_model[\"randomforestregressor\"].feature_importances_\n",
    "sorted(zip(feature_importance,best_model[\"columntransformer\"].get_feature_names_out()),reverse=True)"
   ]
  },
  {
   "cell_type": "markdown",
   "id": "fda7ed06-9269-481b-a3ae-6ec9168aaa15",
   "metadata": {},
   "source": [
    "**The most optimal hyperparmater for _max_features is 16**\n",
    "\n",
    "**The 2 best predictors are Question ID and Student ID**"
   ]
  },
  {
   "cell_type": "markdown",
   "id": "d9550f07-bf06-41bb-8126-be1036959fd0",
   "metadata": {},
   "source": [
    "**Evaluate model on test set**"
   ]
  },
  {
   "cell_type": "code",
   "execution_count": 141,
   "id": "cf5f9bb7-a5cc-4df8-986f-f1f79935b798",
   "metadata": {},
   "outputs": [],
   "source": [
    "MathE_test_set_labels = strat_test_set[\"Type of Answer\"]\n",
    "MathE_test_set_input = strat_test_set.copy().drop(get_rid_of_features, axis=1)"
   ]
  },
  {
   "cell_type": "code",
   "execution_count": 147,
   "id": "209001aa-c57e-401a-9fe8-f4269cd2435f",
   "metadata": {},
   "outputs": [
    {
     "name": "stdout",
     "output_type": "stream",
     "text": [
      "0.51\n"
     ]
    }
   ],
   "source": [
    "final_prediction = best_model.predict(MathE_test_set_input)\n",
    "final_rmse = mean_squared_error(MathE_test_set_labels,final_prediction, squared=False)\n",
    "print(final_rmse.round(2))"
   ]
  },
  {
   "cell_type": "code",
   "execution_count": 151,
   "id": "b489f8ad-7923-469d-8bd8-91227dcc32fe",
   "metadata": {},
   "outputs": [
    {
     "data": {
      "text/plain": [
       "array([0.5 , 0.53])"
      ]
     },
     "execution_count": 151,
     "metadata": {},
     "output_type": "execute_result"
    }
   ],
   "source": [
    "#Calculate the confidence interval range of the error\n",
    "from scipy import stats\n",
    "confidence = 0.95\n",
    "squared_errors = (final_prediction-MathE_test_set_labels)**2\n",
    "np.sqrt(stats.t.interval(confidence,len(squared_errors)-1,loc=squared_errors.mean(),scale=stats.sem(squared_errors))).round(2)"
   ]
  },
  {
   "cell_type": "markdown",
   "id": "c1647318-0271-4ff2-b4d9-079af8fc71cd",
   "metadata": {},
   "source": [
    "**Save the model**"
   ]
  },
  {
   "cell_type": "code",
   "execution_count": 159,
   "id": "0962e142-bf48-4bee-934e-cef4a55f34d8",
   "metadata": {},
   "outputs": [
    {
     "data": {
      "text/plain": [
       "['RFR_MathE_answer_model.pkl']"
      ]
     },
     "execution_count": 159,
     "metadata": {},
     "output_type": "execute_result"
    }
   ],
   "source": [
    "import joblib\n",
    "joblib.dump(best_model,\"RFR_MathE_answer_model.pkl\")"
   ]
  },
  {
   "cell_type": "code",
   "execution_count": null,
   "id": "f17326bf-10ce-4a58-bba3-421dc894b14b",
   "metadata": {},
   "outputs": [],
   "source": []
  }
 ],
 "metadata": {
  "kernelspec": {
   "display_name": "Python 3 (ipykernel)",
   "language": "python",
   "name": "python3"
  },
  "language_info": {
   "codemirror_mode": {
    "name": "ipython",
    "version": 3
   },
   "file_extension": ".py",
   "mimetype": "text/x-python",
   "name": "python",
   "nbconvert_exporter": "python",
   "pygments_lexer": "ipython3",
   "version": "3.11.7"
  }
 },
 "nbformat": 4,
 "nbformat_minor": 5
}
